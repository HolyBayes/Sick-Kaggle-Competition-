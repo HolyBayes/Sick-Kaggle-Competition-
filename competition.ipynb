{
 "cells": [
  {
   "cell_type": "code",
   "execution_count": 8,
   "metadata": {
    "collapsed": false
   },
   "outputs": [
    {
     "name": "stdout",
     "output_type": "stream",
     "text": [
      "(4099L, 1330L) (1366L, 1330L)\n"
     ]
    }
   ],
   "source": [
    "import numpy as np\n",
    "import pandas as pd\n",
    "\n",
    "from sklearn.preprocessing import Imputer\n",
    "from sklearn.ensemble import RandomForestClassifier\n",
    "from sklearn.ensemble import AdaBoostClassifier\n",
    "from sklearn.ensemble import GradientBoostingClassifier\n",
    "from sklearn.neighbors import KNeighborsClassifier\n",
    "from sklearn import svm\n",
    "\n",
    "Xtrain = np.array(pd.read_csv('X.train.csv'))\n",
    "Xtest = np.array(pd.read_csv('X.test.csv'))\n",
    "\n",
    "# from sklearn import preprocessing\n",
    "# Xtrain = preprocessing.scale(Xtrain) \n",
    "\n",
    "ytrain = np.array(pd.read_csv('y.train.csv')['label'])\n",
    "\n",
    "imp = Imputer(missing_values = 'NaN', strategy = 'most_frequent', axis = 0)\n",
    "imp.fit(Xtrain)\n",
    "\n",
    "Xtrain = imp.transform(Xtrain)\n",
    "Xtest = imp.transform(Xtest)\n",
    "\n",
    "Xtrain = (Xtrain - Xtrain.mean()) / (Xtrain.max() - Xtrain.min())\n",
    "Xtest = (Xtest - Xtest.mean()) / (Xtest.max() - Xtest.min())\n",
    "print Xtrain.shape, Xtest.shape\n",
    "\n",
    "from sklearn.cross_validation import LeaveOneOut\n",
    "\n",
    "\n",
    "from sklearn.grid_search import GridSearchCV\n",
    "\n",
    "svr = svm.SVC(C=1.0, cache_size=200, class_weight=None, coef0=0.0, degree=3,\n",
    "gamma=0.0, kernel='sigmoid', max_iter=-1, probability=True)\n",
    "# knc = KNeighborsClassifier(n_neighbors=500, p=1)\n",
    "# rfc = RandomForestClassifier(n_estimators=200, criterion='entropy', min_samples_split=6, max_depth=1, min_samples_leaf=6)\n",
    "# gbc = GradientBoostingClassifier(n_estimators=200, min_samples_split=5, max_depth=1, min_samples_leaf=6)\n",
    "# abc = AdaBoostClassifier(rfc, n_estimators=200, algorithm=\"SAMME\")\n",
    "# parameters = {'min_samples_split':range(1, 10), 'min_samples_leaf':range(5, 10), 'max_depth':range(6, 15)}\n",
    "# parameters = {'p': [(i + 2)*0.5 for i in xrange(40)]}\n",
    "parameters = {'coef0': [i for i in range(-5, 5)]}"
   ]
  },
  {
   "cell_type": "code",
   "execution_count": 9,
   "metadata": {
    "collapsed": false
   },
   "outputs": [],
   "source": [
    "gs = GridSearchCV(svr, parameters, n_jobs = 1,scoring = 'log_loss', cv = 5, verbose = 5)"
   ]
  },
  {
   "cell_type": "code",
   "execution_count": 10,
   "metadata": {
    "collapsed": false
   },
   "outputs": [
    {
     "name": "stdout",
     "output_type": "stream",
     "text": [
      "Fitting 5 folds for each of 10 candidates, totalling 50 fits\n",
      "[CV] coef0=-5 ........................................................\n",
      "[CV] .............................. coef0=-5, score=-0.288538 -   4.7s\n",
      "[CV] coef0=-5 ........................................................\n",
      "[CV] .............................. coef0=-5, score=-0.288783 -   4.8s\n",
      "[CV] coef0=-5 ........................................................\n",
      "[CV] .............................. coef0=-5, score=-0.288783 -   5.3s\n",
      "[CV] coef0=-5 ........................................................\n",
      "[CV] .............................. coef0=-5, score=-0.286108 -   4.6s\n",
      "[CV] coef0=-5 ........................................................\n",
      "[CV] .............................. coef0=-5, score=-0.286108 -   4.6s\n",
      "[CV] coef0=-4 ........................................................\n",
      "[CV] .............................. coef0=-4, score=-0.288538 -   4.6s\n",
      "[CV] coef0=-4 ........................................................\n",
      "[CV] .............................. coef0=-4, score=-0.288783 -   4.7s\n",
      "[CV] coef0=-4 ........................................................\n",
      "[CV] .............................. coef0=-4, score=-0.288783 -   4.6s\n",
      "[CV] coef0=-4 ........................................................\n",
      "[CV] .............................. coef0=-4, score=-0.286108 -   4.7s\n",
      "[CV] coef0=-4 ........................................................\n",
      "[CV] .............................. coef0=-4, score=-0.286108 -   4.7s\n",
      "[CV] coef0=-3 ........................................................\n",
      "[CV] .............................. coef0=-3, score=-0.288538 -   4.7s\n",
      "[CV] coef0=-3 ........................................................\n",
      "[CV] .............................. coef0=-3, score=-0.288783 -   4.6s\n",
      "[CV] coef0=-3 ........................................................\n",
      "[CV] .............................. coef0=-3, score=-0.288783 -   4.6s\n",
      "[CV] coef0=-3 ........................................................\n",
      "[CV] .............................. coef0=-3, score=-0.286108 -   4.6s\n",
      "[CV] coef0=-3 ........................................................\n",
      "[CV] .............................. coef0=-3, score=-0.286108 -   4.6s\n",
      "[CV] coef0=-2 ........................................................\n",
      "[CV] .............................. coef0=-2, score=-0.288538 -   4.6s\n",
      "[CV] coef0=-2 ........................................................\n",
      "[CV] .............................. coef0=-2, score=-0.288783 -   4.6s\n",
      "[CV] coef0=-2 ........................................................\n",
      "[CV] .............................. coef0=-2, score=-0.288783 -   4.6s"
     ]
    },
    {
     "name": "stderr",
     "output_type": "stream",
     "text": [
      "[Parallel(n_jobs=1)]: Done   1 jobs       | elapsed:    4.7s\n",
      "[Parallel(n_jobs=1)]: Done  18 jobs       | elapsed:  1.4min\n"
     ]
    },
    {
     "name": "stdout",
     "output_type": "stream",
     "text": [
      "\n",
      "[CV] coef0=-2 ........................................................\n",
      "[CV] .............................. coef0=-2, score=-0.286108 -   4.6s\n",
      "[CV] coef0=-2 ........................................................\n",
      "[CV] .............................. coef0=-2, score=-0.286108 -   4.6s\n",
      "[CV] coef0=-1 ........................................................\n",
      "[CV] .............................. coef0=-1, score=-0.288538 -   4.4s\n",
      "[CV] coef0=-1 ........................................................\n",
      "[CV] .............................. coef0=-1, score=-0.288783 -   4.4s\n",
      "[CV] coef0=-1 ........................................................\n",
      "[CV] .............................. coef0=-1, score=-0.288783 -   4.8s\n",
      "[CV] coef0=-1 ........................................................\n",
      "[CV] .............................. coef0=-1, score=-0.286108 -   4.5s\n",
      "[CV] coef0=-1 ........................................................\n",
      "[CV] .............................. coef0=-1, score=-0.286108 -   4.5s\n",
      "[CV] coef0=0 .........................................................\n",
      "[CV] ............................... coef0=0, score=-0.288538 -   4.3s\n",
      "[CV] coef0=0 .........................................................\n",
      "[CV] ............................... coef0=0, score=-0.288783 -   4.2s\n",
      "[CV] coef0=0 .........................................................\n",
      "[CV] ............................... coef0=0, score=-0.288783 -   4.2s\n",
      "[CV] coef0=0 .........................................................\n",
      "[CV] ............................... coef0=0, score=-0.286108 -   4.2s\n",
      "[CV] coef0=0 .........................................................\n",
      "[CV] ............................... coef0=0, score=-0.286108 -   4.2s\n",
      "[CV] coef0=1 .........................................................\n",
      "[CV] ............................... coef0=1, score=-0.288538 -   4.3s\n",
      "[CV] coef0=1 .........................................................\n",
      "[CV] ............................... coef0=1, score=-0.288783 -   4.3s\n",
      "[CV] coef0=1 .........................................................\n",
      "[CV] ............................... coef0=1, score=-0.288783 -   4.3s\n",
      "[CV] coef0=1 .........................................................\n",
      "[CV] ............................... coef0=1, score=-0.286108 -   4.3s\n",
      "[CV] coef0=1 .........................................................\n",
      "[CV] ............................... coef0=1, score=-0.286108 -   4.3s\n",
      "[CV] coef0=2 .........................................................\n",
      "[CV] ............................... coef0=2, score=-0.288538 -   4.6s\n",
      "[CV] coef0=2 .........................................................\n",
      "[CV] ............................... coef0=2, score=-0.288783 -   4.6s\n",
      "[CV] coef0=2 .........................................................\n",
      "[CV] ............................... coef0=2, score=-0.288783 -   4.6s\n",
      "[CV] coef0=2 .........................................................\n",
      "[CV] ............................... coef0=2, score=-0.286108 -   4.6s\n",
      "[CV] coef0=2 .........................................................\n",
      "[CV] ............................... coef0=2, score=-0.286108 -   4.9s\n",
      "[CV] coef0=3 .........................................................\n",
      "[CV] ............................... coef0=3, score=-0.288538 -   5.0s\n",
      "[CV] coef0=3 .........................................................\n",
      "[CV] ............................... coef0=3, score=-0.288783 -   4.7s\n",
      "[CV] coef0=3 .........................................................\n",
      "[CV] ............................... coef0=3, score=-0.288783 -   5.4s\n",
      "[CV] coef0=3 .........................................................\n",
      "[CV] ............................... coef0=3, score=-0.286108 -   4.9s\n",
      "[CV] coef0=3 .........................................................\n"
     ]
    },
    {
     "ename": "KeyboardInterrupt",
     "evalue": "",
     "output_type": "error",
     "traceback": [
      "\u001b[1;31m---------------------------------------------------------------------------\u001b[0m",
      "\u001b[1;31mKeyboardInterrupt\u001b[0m                         Traceback (most recent call last)",
      "\u001b[1;32m<ipython-input-10-5e9a4a311762>\u001b[0m in \u001b[0;36m<module>\u001b[1;34m()\u001b[0m\n\u001b[1;32m----> 1\u001b[1;33m \u001b[0mgs\u001b[0m\u001b[1;33m.\u001b[0m\u001b[0mfit\u001b[0m\u001b[1;33m(\u001b[0m\u001b[0mXtrain\u001b[0m\u001b[1;33m[\u001b[0m\u001b[1;33m:\u001b[0m\u001b[1;33m,\u001b[0m \u001b[1;33m:\u001b[0m\u001b[1;36m331\u001b[0m\u001b[1;33m]\u001b[0m\u001b[1;33m,\u001b[0m \u001b[0mytrain\u001b[0m\u001b[1;33m)\u001b[0m\u001b[1;33m\u001b[0m\u001b[0m\n\u001b[0m\u001b[0;32m      2\u001b[0m \u001b[0mypred\u001b[0m \u001b[1;33m=\u001b[0m \u001b[0mgs\u001b[0m\u001b[1;33m.\u001b[0m\u001b[0mpredict_proba\u001b[0m\u001b[1;33m(\u001b[0m\u001b[0mXtest\u001b[0m\u001b[1;33m[\u001b[0m\u001b[1;33m:\u001b[0m\u001b[1;33m,\u001b[0m \u001b[1;33m:\u001b[0m\u001b[1;36m331\u001b[0m\u001b[1;33m]\u001b[0m\u001b[1;33m)\u001b[0m\u001b[1;33m[\u001b[0m\u001b[1;33m:\u001b[0m\u001b[1;33m,\u001b[0m \u001b[1;36m1\u001b[0m\u001b[1;33m]\u001b[0m\u001b[1;33m\u001b[0m\u001b[0m\n",
      "\u001b[1;32mC:\\Anaconda\\lib\\site-packages\\sklearn\\grid_search.pyc\u001b[0m in \u001b[0;36mfit\u001b[1;34m(self, X, y)\u001b[0m\n\u001b[0;32m    594\u001b[0m \u001b[1;33m\u001b[0m\u001b[0m\n\u001b[0;32m    595\u001b[0m         \"\"\"\n\u001b[1;32m--> 596\u001b[1;33m         \u001b[1;32mreturn\u001b[0m \u001b[0mself\u001b[0m\u001b[1;33m.\u001b[0m\u001b[0m_fit\u001b[0m\u001b[1;33m(\u001b[0m\u001b[0mX\u001b[0m\u001b[1;33m,\u001b[0m \u001b[0my\u001b[0m\u001b[1;33m,\u001b[0m \u001b[0mParameterGrid\u001b[0m\u001b[1;33m(\u001b[0m\u001b[0mself\u001b[0m\u001b[1;33m.\u001b[0m\u001b[0mparam_grid\u001b[0m\u001b[1;33m)\u001b[0m\u001b[1;33m)\u001b[0m\u001b[1;33m\u001b[0m\u001b[0m\n\u001b[0m\u001b[0;32m    597\u001b[0m \u001b[1;33m\u001b[0m\u001b[0m\n\u001b[0;32m    598\u001b[0m \u001b[1;33m\u001b[0m\u001b[0m\n",
      "\u001b[1;32mC:\\Anaconda\\lib\\site-packages\\sklearn\\grid_search.pyc\u001b[0m in \u001b[0;36m_fit\u001b[1;34m(self, X, y, parameter_iterable)\u001b[0m\n\u001b[0;32m    376\u001b[0m                                     \u001b[0mtrain\u001b[0m\u001b[1;33m,\u001b[0m \u001b[0mtest\u001b[0m\u001b[1;33m,\u001b[0m \u001b[0mself\u001b[0m\u001b[1;33m.\u001b[0m\u001b[0mverbose\u001b[0m\u001b[1;33m,\u001b[0m \u001b[0mparameters\u001b[0m\u001b[1;33m,\u001b[0m\u001b[1;33m\u001b[0m\u001b[0m\n\u001b[0;32m    377\u001b[0m                                     self.fit_params, return_parameters=True)\n\u001b[1;32m--> 378\u001b[1;33m             \u001b[1;32mfor\u001b[0m \u001b[0mparameters\u001b[0m \u001b[1;32min\u001b[0m \u001b[0mparameter_iterable\u001b[0m\u001b[1;33m\u001b[0m\u001b[0m\n\u001b[0m\u001b[0;32m    379\u001b[0m             for train, test in cv)\n\u001b[0;32m    380\u001b[0m \u001b[1;33m\u001b[0m\u001b[0m\n",
      "\u001b[1;32mC:\\Anaconda\\lib\\site-packages\\sklearn\\externals\\joblib\\parallel.pyc\u001b[0m in \u001b[0;36m__call__\u001b[1;34m(self, iterable)\u001b[0m\n\u001b[0;32m    651\u001b[0m             \u001b[0mself\u001b[0m\u001b[1;33m.\u001b[0m\u001b[0m_iterating\u001b[0m \u001b[1;33m=\u001b[0m \u001b[0mTrue\u001b[0m\u001b[1;33m\u001b[0m\u001b[0m\n\u001b[0;32m    652\u001b[0m             \u001b[1;32mfor\u001b[0m \u001b[0mfunction\u001b[0m\u001b[1;33m,\u001b[0m \u001b[0margs\u001b[0m\u001b[1;33m,\u001b[0m \u001b[0mkwargs\u001b[0m \u001b[1;32min\u001b[0m \u001b[0miterable\u001b[0m\u001b[1;33m:\u001b[0m\u001b[1;33m\u001b[0m\u001b[0m\n\u001b[1;32m--> 653\u001b[1;33m                 \u001b[0mself\u001b[0m\u001b[1;33m.\u001b[0m\u001b[0mdispatch\u001b[0m\u001b[1;33m(\u001b[0m\u001b[0mfunction\u001b[0m\u001b[1;33m,\u001b[0m \u001b[0margs\u001b[0m\u001b[1;33m,\u001b[0m \u001b[0mkwargs\u001b[0m\u001b[1;33m)\u001b[0m\u001b[1;33m\u001b[0m\u001b[0m\n\u001b[0m\u001b[0;32m    654\u001b[0m \u001b[1;33m\u001b[0m\u001b[0m\n\u001b[0;32m    655\u001b[0m             \u001b[1;32mif\u001b[0m \u001b[0mpre_dispatch\u001b[0m \u001b[1;33m==\u001b[0m \u001b[1;34m\"all\"\u001b[0m \u001b[1;32mor\u001b[0m \u001b[0mn_jobs\u001b[0m \u001b[1;33m==\u001b[0m \u001b[1;36m1\u001b[0m\u001b[1;33m:\u001b[0m\u001b[1;33m\u001b[0m\u001b[0m\n",
      "\u001b[1;32mC:\\Anaconda\\lib\\site-packages\\sklearn\\externals\\joblib\\parallel.pyc\u001b[0m in \u001b[0;36mdispatch\u001b[1;34m(self, func, args, kwargs)\u001b[0m\n\u001b[0;32m    398\u001b[0m         \"\"\"\n\u001b[0;32m    399\u001b[0m         \u001b[1;32mif\u001b[0m \u001b[0mself\u001b[0m\u001b[1;33m.\u001b[0m\u001b[0m_pool\u001b[0m \u001b[1;32mis\u001b[0m \u001b[0mNone\u001b[0m\u001b[1;33m:\u001b[0m\u001b[1;33m\u001b[0m\u001b[0m\n\u001b[1;32m--> 400\u001b[1;33m             \u001b[0mjob\u001b[0m \u001b[1;33m=\u001b[0m \u001b[0mImmediateApply\u001b[0m\u001b[1;33m(\u001b[0m\u001b[0mfunc\u001b[0m\u001b[1;33m,\u001b[0m \u001b[0margs\u001b[0m\u001b[1;33m,\u001b[0m \u001b[0mkwargs\u001b[0m\u001b[1;33m)\u001b[0m\u001b[1;33m\u001b[0m\u001b[0m\n\u001b[0m\u001b[0;32m    401\u001b[0m             \u001b[0mindex\u001b[0m \u001b[1;33m=\u001b[0m \u001b[0mlen\u001b[0m\u001b[1;33m(\u001b[0m\u001b[0mself\u001b[0m\u001b[1;33m.\u001b[0m\u001b[0m_jobs\u001b[0m\u001b[1;33m)\u001b[0m\u001b[1;33m\u001b[0m\u001b[0m\n\u001b[0;32m    402\u001b[0m             \u001b[1;32mif\u001b[0m \u001b[1;32mnot\u001b[0m \u001b[0m_verbosity_filter\u001b[0m\u001b[1;33m(\u001b[0m\u001b[0mindex\u001b[0m\u001b[1;33m,\u001b[0m \u001b[0mself\u001b[0m\u001b[1;33m.\u001b[0m\u001b[0mverbose\u001b[0m\u001b[1;33m)\u001b[0m\u001b[1;33m:\u001b[0m\u001b[1;33m\u001b[0m\u001b[0m\n",
      "\u001b[1;32mC:\\Anaconda\\lib\\site-packages\\sklearn\\externals\\joblib\\parallel.pyc\u001b[0m in \u001b[0;36m__init__\u001b[1;34m(self, func, args, kwargs)\u001b[0m\n\u001b[0;32m    136\u001b[0m         \u001b[1;31m# Don't delay the application, to avoid keeping the input\u001b[0m\u001b[1;33m\u001b[0m\u001b[1;33m\u001b[0m\u001b[0m\n\u001b[0;32m    137\u001b[0m         \u001b[1;31m# arguments in memory\u001b[0m\u001b[1;33m\u001b[0m\u001b[1;33m\u001b[0m\u001b[0m\n\u001b[1;32m--> 138\u001b[1;33m         \u001b[0mself\u001b[0m\u001b[1;33m.\u001b[0m\u001b[0mresults\u001b[0m \u001b[1;33m=\u001b[0m \u001b[0mfunc\u001b[0m\u001b[1;33m(\u001b[0m\u001b[1;33m*\u001b[0m\u001b[0margs\u001b[0m\u001b[1;33m,\u001b[0m \u001b[1;33m**\u001b[0m\u001b[0mkwargs\u001b[0m\u001b[1;33m)\u001b[0m\u001b[1;33m\u001b[0m\u001b[0m\n\u001b[0m\u001b[0;32m    139\u001b[0m \u001b[1;33m\u001b[0m\u001b[0m\n\u001b[0;32m    140\u001b[0m     \u001b[1;32mdef\u001b[0m \u001b[0mget\u001b[0m\u001b[1;33m(\u001b[0m\u001b[0mself\u001b[0m\u001b[1;33m)\u001b[0m\u001b[1;33m:\u001b[0m\u001b[1;33m\u001b[0m\u001b[0m\n",
      "\u001b[1;32mC:\\Anaconda\\lib\\site-packages\\sklearn\\cross_validation.pyc\u001b[0m in \u001b[0;36m_fit_and_score\u001b[1;34m(estimator, X, y, scorer, train, test, verbose, parameters, fit_params, return_train_score, return_parameters)\u001b[0m\n\u001b[0;32m   1237\u001b[0m         \u001b[0mestimator\u001b[0m\u001b[1;33m.\u001b[0m\u001b[0mfit\u001b[0m\u001b[1;33m(\u001b[0m\u001b[0mX_train\u001b[0m\u001b[1;33m,\u001b[0m \u001b[1;33m**\u001b[0m\u001b[0mfit_params\u001b[0m\u001b[1;33m)\u001b[0m\u001b[1;33m\u001b[0m\u001b[0m\n\u001b[0;32m   1238\u001b[0m     \u001b[1;32melse\u001b[0m\u001b[1;33m:\u001b[0m\u001b[1;33m\u001b[0m\u001b[0m\n\u001b[1;32m-> 1239\u001b[1;33m         \u001b[0mestimator\u001b[0m\u001b[1;33m.\u001b[0m\u001b[0mfit\u001b[0m\u001b[1;33m(\u001b[0m\u001b[0mX_train\u001b[0m\u001b[1;33m,\u001b[0m \u001b[0my_train\u001b[0m\u001b[1;33m,\u001b[0m \u001b[1;33m**\u001b[0m\u001b[0mfit_params\u001b[0m\u001b[1;33m)\u001b[0m\u001b[1;33m\u001b[0m\u001b[0m\n\u001b[0m\u001b[0;32m   1240\u001b[0m     \u001b[0mtest_score\u001b[0m \u001b[1;33m=\u001b[0m \u001b[0m_score\u001b[0m\u001b[1;33m(\u001b[0m\u001b[0mestimator\u001b[0m\u001b[1;33m,\u001b[0m \u001b[0mX_test\u001b[0m\u001b[1;33m,\u001b[0m \u001b[0my_test\u001b[0m\u001b[1;33m,\u001b[0m \u001b[0mscorer\u001b[0m\u001b[1;33m)\u001b[0m\u001b[1;33m\u001b[0m\u001b[0m\n\u001b[0;32m   1241\u001b[0m     \u001b[1;32mif\u001b[0m \u001b[0mreturn_train_score\u001b[0m\u001b[1;33m:\u001b[0m\u001b[1;33m\u001b[0m\u001b[0m\n",
      "\u001b[1;32mC:\\Anaconda\\lib\\site-packages\\sklearn\\svm\\base.pyc\u001b[0m in \u001b[0;36mfit\u001b[1;34m(self, X, y, sample_weight)\u001b[0m\n\u001b[0;32m    174\u001b[0m \u001b[1;33m\u001b[0m\u001b[0m\n\u001b[0;32m    175\u001b[0m         \u001b[0mseed\u001b[0m \u001b[1;33m=\u001b[0m \u001b[0mrnd\u001b[0m\u001b[1;33m.\u001b[0m\u001b[0mrandint\u001b[0m\u001b[1;33m(\u001b[0m\u001b[0mnp\u001b[0m\u001b[1;33m.\u001b[0m\u001b[0miinfo\u001b[0m\u001b[1;33m(\u001b[0m\u001b[1;34m'i'\u001b[0m\u001b[1;33m)\u001b[0m\u001b[1;33m.\u001b[0m\u001b[0mmax\u001b[0m\u001b[1;33m)\u001b[0m\u001b[1;33m\u001b[0m\u001b[0m\n\u001b[1;32m--> 176\u001b[1;33m         \u001b[0mfit\u001b[0m\u001b[1;33m(\u001b[0m\u001b[0mX\u001b[0m\u001b[1;33m,\u001b[0m \u001b[0my\u001b[0m\u001b[1;33m,\u001b[0m \u001b[0msample_weight\u001b[0m\u001b[1;33m,\u001b[0m \u001b[0msolver_type\u001b[0m\u001b[1;33m,\u001b[0m \u001b[0mkernel\u001b[0m\u001b[1;33m,\u001b[0m \u001b[0mrandom_seed\u001b[0m\u001b[1;33m=\u001b[0m\u001b[0mseed\u001b[0m\u001b[1;33m)\u001b[0m\u001b[1;33m\u001b[0m\u001b[0m\n\u001b[0m\u001b[0;32m    177\u001b[0m         \u001b[1;31m# see comment on the other call to np.iinfo in this file\u001b[0m\u001b[1;33m\u001b[0m\u001b[1;33m\u001b[0m\u001b[0m\n\u001b[0;32m    178\u001b[0m \u001b[1;33m\u001b[0m\u001b[0m\n",
      "\u001b[1;32mC:\\Anaconda\\lib\\site-packages\\sklearn\\svm\\base.pyc\u001b[0m in \u001b[0;36m_dense_fit\u001b[1;34m(self, X, y, sample_weight, solver_type, kernel, random_seed)\u001b[0m\n\u001b[0;32m    229\u001b[0m                 \u001b[0mcache_size\u001b[0m\u001b[1;33m=\u001b[0m\u001b[0mself\u001b[0m\u001b[1;33m.\u001b[0m\u001b[0mcache_size\u001b[0m\u001b[1;33m,\u001b[0m \u001b[0mcoef0\u001b[0m\u001b[1;33m=\u001b[0m\u001b[0mself\u001b[0m\u001b[1;33m.\u001b[0m\u001b[0mcoef0\u001b[0m\u001b[1;33m,\u001b[0m\u001b[1;33m\u001b[0m\u001b[0m\n\u001b[0;32m    230\u001b[0m                 \u001b[0mgamma\u001b[0m\u001b[1;33m=\u001b[0m\u001b[0mself\u001b[0m\u001b[1;33m.\u001b[0m\u001b[0m_gamma\u001b[0m\u001b[1;33m,\u001b[0m \u001b[0mepsilon\u001b[0m\u001b[1;33m=\u001b[0m\u001b[0mself\u001b[0m\u001b[1;33m.\u001b[0m\u001b[0mepsilon\u001b[0m\u001b[1;33m,\u001b[0m\u001b[1;33m\u001b[0m\u001b[0m\n\u001b[1;32m--> 231\u001b[1;33m                 max_iter=self.max_iter, random_seed=random_seed)\n\u001b[0m\u001b[0;32m    232\u001b[0m \u001b[1;33m\u001b[0m\u001b[0m\n\u001b[0;32m    233\u001b[0m         \u001b[0mself\u001b[0m\u001b[1;33m.\u001b[0m\u001b[0m_warn_from_fit_status\u001b[0m\u001b[1;33m(\u001b[0m\u001b[1;33m)\u001b[0m\u001b[1;33m\u001b[0m\u001b[0m\n",
      "\u001b[1;32mlibsvm.pyx\u001b[0m in \u001b[0;36msklearn.svm.libsvm.fit (sklearn\\svm\\libsvm.c:2353)\u001b[1;34m()\u001b[0m\n",
      "\u001b[1;31mKeyboardInterrupt\u001b[0m: "
     ]
    }
   ],
   "source": [
    "gs.fit(Xtrain[:, :331], ytrain)\n",
    "ypred = gs.predict_proba(Xtest[:, :331])[:, 1]"
   ]
  },
  {
   "cell_type": "code",
   "execution_count": 4,
   "metadata": {
    "collapsed": false
   },
   "outputs": [
    {
     "data": {
      "text/plain": [
       "SVC(C=1.0, cache_size=200, class_weight=None, coef0=0.0, degree=3, gamma=0.4,\n",
       "  kernel='rbf', max_iter=-1, probability=True, random_state=None,\n",
       "  shrinking=True, tol=0.001, verbose=False)"
      ]
     },
     "execution_count": 4,
     "metadata": {},
     "output_type": "execute_result"
    }
   ],
   "source": [
    "gs.best_estimator_\n",
    "# gs.best_estimator_+\n",
    "# Out[15]:\n",
    "# RandomForestClassifier(bootstrap=True, compute_importances=None,\n",
    "#             criterion='entropy', max_depth=13, max_features='auto',\n",
    "#             max_leaf_nodes=None, min_density=None, min_samples_leaf=6,\n",
    "#             min_samples_split=5, n_estimators=200, n_jobs=1,\n",
    "#             oob_score=False, random_state=None, verbose=0)\n",
    "# GradientBoostingClassifier(min_samples_split=6, max_depth=1, min_samples_leaf=7)\n",
    "# SVC(C=1.0, cache_size=200, class_weight=None, coef0=0.0, degree=3, gamma=0.4,\n",
    "#   kernel='rbf', max_iter=-1, probability=True, random_state=None,\n",
    "#   shrinking=True, tol=0.001, verbose=False)"
   ]
  },
  {
   "cell_type": "code",
   "execution_count": 34,
   "metadata": {
    "collapsed": false
   },
   "outputs": [],
   "source": [
    "dfpred = pd.DataFrame()\n",
    "dfpred['Id'] = np.arange(len(ypred))\n",
    "dfpred['Prediction'] = ypred\n",
    "\n",
    "dfpred.to_csv('y.predicted.csv', index = False)"
   ]
  }
 ],
 "metadata": {
  "kernelspec": {
   "display_name": "Python 2",
   "language": "python",
   "name": "python2"
  },
  "language_info": {
   "codemirror_mode": {
    "name": "ipython",
    "version": 2
   },
   "file_extension": ".py",
   "mimetype": "text/x-python",
   "name": "python",
   "nbconvert_exporter": "python",
   "pygments_lexer": "ipython2",
   "version": "2.7.9"
  }
 },
 "nbformat": 4,
 "nbformat_minor": 0
}
