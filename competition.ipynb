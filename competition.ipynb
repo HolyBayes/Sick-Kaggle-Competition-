{
 "cells": [
  {
   "cell_type": "code",
   "execution_count": 2,
   "metadata": {
    "collapsed": false
   },
   "outputs": [
    {
     "name": "stdout",
     "output_type": "stream",
     "text": [
      "(4099L, 1330L) (1366L, 1330L)\n"
     ]
    }
   ],
   "source": [
    "import numpy as np\n",
    "import pandas as pd\n",
    "\n",
    "from sklearn.preprocessing import Imputer\n",
    "from sklearn.ensemble import RandomForestClassifier\n",
    "from sklearn.ensemble import AdaBoostClassifier\n",
    "from sklearn.ensemble import GradientBoostingClassifier\n",
    "from sklearn.neighbors import KNeighborsClassifier\n",
    "from sklearn import svm\n",
    "\n",
    "Xtrain = np.array(pd.read_csv('X.train.csv'))\n",
    "Xtest = np.array(pd.read_csv('X.test.csv'))\n",
    "\n",
    "# from sklearn import preprocessing\n",
    "# Xtrain = preprocessing.scale(Xtrain) \n",
    "\n",
    "ytrain = np.array(pd.read_csv('y.train.csv')['label'])\n",
    "\n",
    "imp = Imputer(missing_values = 'NaN', strategy = 'most_frequent', axis = 0)\n",
    "imp.fit(Xtrain)\n",
    "\n",
    "Xtrain = imp.transform(Xtrain)\n",
    "Xtest = imp.transform(Xtest)\n",
    "\n",
    "Xtrain = (Xtrain - Xtrain.mean()) / (Xtrain.max() - Xtrain.min())\n",
    "Xtest = (Xtest - Xtest.mean()) / (Xtest.max() - Xtest.min())\n",
    "print Xtrain.shape, Xtest.shape\n",
    "\n",
    "from sklearn.cross_validation import LeaveOneOut\n",
    "\n",
    "\n",
    "from sklearn.grid_search import GridSearchCV\n",
    "\n",
    "svr = svm.SVC(C=1.0, cache_size=200, class_weight=None, coef0=0.0, degree=3,\n",
    "gamma=0.0, kernel='sigmoid', max_iter=-1, probability=True)\n",
    "# knc = KNeighborsClassifier(n_neighbors=500, p=1)\n",
    "# rfc = RandomForestClassifier(n_estimators=200, criterion='entropy', min_samples_split=6, max_depth=1, min_samples_leaf=6)\n",
    "# gbc = GradientBoostingClassifier(n_estimators=200, min_samples_split=5, max_depth=1, min_samples_leaf=6)\n",
    "# abc = AdaBoostClassifier(rfc, n_estimators=200, algorithm=\"SAMME\")\n",
    "# parameters = {'min_samples_split':range(1, 10), 'min_samples_leaf':range(5, 10), 'max_depth':range(6, 15)}\n",
    "# parameters = {'p': [(i + 2)*0.5 for i in xrange(40)]}\n",
    "parameters = {'coef0': range(-2, 2)}"
   ]
  },
  {
   "cell_type": "code",
   "execution_count": 3,
   "metadata": {
    "collapsed": false
   },
   "outputs": [],
   "source": [
    "gs = GridSearchCV(svr, parameters, n_jobs = 1,scoring = 'log_loss', cv = 5, verbose = 5)"
   ]
  },
  {
   "cell_type": "code",
   "execution_count": 4,
   "metadata": {
    "collapsed": false
   },
   "outputs": [
    {
     "name": "stdout",
     "output_type": "stream",
     "text": [
      "Fitting 5 folds for each of 4 candidates, totalling 20 fits\n",
      "[CV] coef0=-2 ........................................................\n",
      "[CV] .............................. coef0=-2, score=-0.288538 -   6.3s\n",
      "[CV] coef0=-2 ........................................................\n",
      "[CV] .............................. coef0=-2, score=-0.288783 -   6.0s\n",
      "[CV] coef0=-2 ........................................................\n",
      "[CV] .............................. coef0=-2, score=-0.288783 -   6.1s\n",
      "[CV] coef0=-2 ........................................................\n",
      "[CV] .............................. coef0=-2, score=-0.286108 -   6.3s\n",
      "[CV] coef0=-2 ........................................................\n",
      "[CV] .............................. coef0=-2, score=-0.286108 -   6.0s\n",
      "[CV] coef0=-1 ........................................................\n",
      "[CV] .............................. coef0=-1, score=-0.288538 -   5.4s\n",
      "[CV] coef0=-1 ........................................................\n",
      "[CV] .............................. coef0=-1, score=-0.288783 -   5.3s\n",
      "[CV] coef0=-1 ........................................................\n",
      "[CV] .............................. coef0=-1, score=-0.288783 -   5.4s\n",
      "[CV] coef0=-1 ........................................................\n",
      "[CV] .............................. coef0=-1, score=-0.286108 -   5.3s\n",
      "[CV] coef0=-1 ........................................................\n",
      "[CV] .............................. coef0=-1, score=-0.286108 -   7.0s\n",
      "[CV] coef0=0 .........................................................\n",
      "[CV] ............................... coef0=0, score=-0.288538 -   6.1s\n",
      "[CV] coef0=0 .........................................................\n",
      "[CV] ............................... coef0=0, score=-0.288783 -   6.8s\n",
      "[CV] coef0=0 .........................................................\n",
      "[CV] ............................... coef0=0, score=-0.288783 -   6.1s\n",
      "[CV] coef0=0 .........................................................\n",
      "[CV] ............................... coef0=0, score=-0.286108 -   5.7s\n",
      "[CV] coef0=0 .........................................................\n",
      "[CV] ............................... coef0=0, score=-0.286108 -   6.4s\n",
      "[CV] coef0=1 .........................................................\n",
      "[CV] ............................... coef0=1, score=-0.288538 -   5.6s\n",
      "[CV] coef0=1 .........................................................\n",
      "[CV] ............................... coef0=1, score=-0.288783 -   5.5s\n",
      "[CV] coef0=1 .........................................................\n",
      "[CV] ............................... coef0=1, score=-0.288783 -   6.7s"
     ]
    },
    {
     "name": "stderr",
     "output_type": "stream",
     "text": [
      "[Parallel(n_jobs=1)]: Done   1 jobs       | elapsed:    6.3s\n",
      "[Parallel(n_jobs=1)]: Done  18 jobs       | elapsed:  1.8min\n"
     ]
    },
    {
     "name": "stdout",
     "output_type": "stream",
     "text": [
      "\n",
      "[CV] coef0=1 .........................................................\n",
      "[CV] ............................... coef0=1, score=-0.286108 -   5.8s\n",
      "[CV] coef0=1 .........................................................\n",
      "[CV] ............................... coef0=1, score=-0.286108 -   5.6s\n"
     ]
    },
    {
     "name": "stderr",
     "output_type": "stream",
     "text": [
      "[Parallel(n_jobs=1)]: Done  20 out of  20 | elapsed:  2.0min finished\n"
     ]
    }
   ],
   "source": [
    "gs.fit(Xtrain[:, :331], ytrain)\n",
    "ypred = gs.predict_proba(Xtest[:, :331])[:, 1]"
   ]
  },
  {
   "cell_type": "code",
   "execution_count": 4,
   "metadata": {
    "collapsed": false
   },
   "outputs": [
    {
     "data": {
      "text/plain": [
       "SVC(C=1.0, cache_size=200, class_weight=None, coef0=0.0, degree=3, gamma=0.4,\n",
       "  kernel='rbf', max_iter=-1, probability=True, random_state=None,\n",
       "  shrinking=True, tol=0.001, verbose=False)"
      ]
     },
     "execution_count": 4,
     "metadata": {},
     "output_type": "execute_result"
    }
   ],
   "source": [
    "gs.best_estimator_\n",
    "# gs.best_estimator_+\n",
    "# Out[15]:\n",
    "# RandomForestClassifier(bootstrap=True, compute_importances=None,\n",
    "#             criterion='entropy', max_depth=13, max_features='auto',\n",
    "#             max_leaf_nodes=None, min_density=None, min_samples_leaf=6,\n",
    "#             min_samples_split=5, n_estimators=200, n_jobs=1,\n",
    "#             oob_score=False, random_state=None, verbose=0)\n",
    "# GradientBoostingClassifier(min_samples_split=6, max_depth=1, min_samples_leaf=7)\n",
    "# SVC(C=1.0, cache_size=200, class_weight=None, coef0=0.0, degree=3, gamma=0.4,\n",
    "#   kernel='rbf', max_iter=-1, probability=True, random_state=None,\n",
    "#   shrinking=True, tol=0.001, verbose=False)"
   ]
  },
  {
   "cell_type": "code",
   "execution_count": 34,
   "metadata": {
    "collapsed": false
   },
   "outputs": [],
   "source": [
    "dfpred = pd.DataFrame()\n",
    "dfpred['Id'] = np.arange(len(ypred))\n",
    "dfpred['Prediction'] = ypred\n",
    "\n",
    "dfpred.to_csv('y.predicted.csv', index = False)"
   ]
  }
 ],
 "metadata": {
  "kernelspec": {
   "display_name": "Python 2",
   "language": "python",
   "name": "python2"
  },
  "language_info": {
   "codemirror_mode": {
    "name": "ipython",
    "version": 2
   },
   "file_extension": ".py",
   "mimetype": "text/x-python",
   "name": "python",
   "nbconvert_exporter": "python",
   "pygments_lexer": "ipython2",
   "version": "2.7.9"
  }
 },
 "nbformat": 4,
 "nbformat_minor": 0
}
